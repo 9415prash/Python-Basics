{
  "nbformat": 4,
  "nbformat_minor": 0,
  "metadata": {
    "colab": {
      "provenance": []
    },
    "kernelspec": {
      "name": "python3",
      "display_name": "Python 3"
    },
    "language_info": {
      "name": "python"
    }
  },
  "cells": [
    {
      "cell_type": "code",
      "source": [
        "# Write a Python program that displays your name and age\n",
        "a = input(\"enter your name: \")\n",
        "b = input(\"enter your age: \")\n",
        "print(a,b)"
      ],
      "metadata": {
        "id": "L3xVWwQjcFWm"
      },
      "execution_count": null,
      "outputs": []
    },
    {
      "cell_type": "code",
      "execution_count": null,
      "metadata": {
        "id": "PAqjm5WHPg-B"
      },
      "outputs": [],
      "source": [
        "# 48 Write a Python program to print \"Hello, World!y\n",
        "print(\"Hello, World!\")"
      ]
    },
    {
      "cell_type": "code",
      "source": [
        "# Write code to print all the pre-defined keywords in Python using the keyword library.\n",
        "import keyword\n",
        "print(keyword.kwlist)"
      ],
      "metadata": {
        "colab": {
          "base_uri": "https://localhost:8080/"
        },
        "id": "D_7lE-wNcZVx",
        "outputId": "1e4b74d3-ab54-4623-a3c7-e6668cd1c5b1"
      },
      "execution_count": 1,
      "outputs": [
        {
          "output_type": "stream",
          "name": "stdout",
          "text": [
            "['False', 'None', 'True', 'and', 'as', 'assert', 'async', 'await', 'break', 'class', 'continue', 'def', 'del', 'elif', 'else', 'except', 'finally', 'for', 'from', 'global', 'if', 'import', 'in', 'is', 'lambda', 'nonlocal', 'not', 'or', 'pass', 'raise', 'return', 'try', 'while', 'with', 'yield']\n"
          ]
        }
      ]
    },
    {
      "cell_type": "code",
      "source": [
        "# Write a program that checks if a given word is a Python keyword.\n",
        "word = input(\"Enter a word to check if it's a Python keyword: \").strip()\n",
        "if is_python_keyword(word):\n",
        "    print(f'\"{word}\" is a Python keyword.')\n",
        "else:\n",
        "    print(f'\"{word}\" is not a Python keyword.')"
      ],
      "metadata": {
        "id": "AMUpJcuUcsoF"
      },
      "execution_count": null,
      "outputs": []
    },
    {
      "cell_type": "code",
      "source": [
        "#  Create a list and tuple in Python, and demonstrate how attempting to change an element works differently for each.\n",
        "# Creating a list\n",
        "my_list = [1, 2, 3, 4]\n",
        "print(\"Original List:\", my_list)\n",
        "\n",
        "# Modifying an element in the list\n",
        "my_list[2] = 10  # Changing the third element\n",
        "print(\"Modified List:\", my_list)\n",
        "\n",
        "# Creating a tuple\n",
        "my_tuple = (1, 2, 3, 4)\n",
        "print(\"\\nOriginal Tuple:\", my_tuple)\n",
        "\n",
        "# Attempting to modify an element in the tuple\n",
        "try:\n",
        "    my_tuple[2] = 10  # Trying to change the third element\n",
        "except TypeError as e:\n",
        "    print(\"Error:\", e)\n",
        "    print(\"Tuple remains unchanged:\", my_tuple)"
      ],
      "metadata": {
        "id": "feZSik9-dMFs"
      },
      "execution_count": null,
      "outputs": []
    },
    {
      "cell_type": "code",
      "source": [
        "# Write a function to demonstrate the behavior of mutable and immutable arguments.\n",
        "\n",
        "def modify_list(lst):\n",
        "    lst.append(4)  # Modifying the list by adding an element\n",
        "    print(\"Inside the function (List):\", lst)\n",
        "lst = [1, 2, 3]\n",
        "print(\"Before the function call (List):\", lst)\n",
        "modify_list(lst)\n",
        "print(\"After the function call (List):\", lst)"
      ],
      "metadata": {
        "colab": {
          "base_uri": "https://localhost:8080/"
        },
        "id": "9NoMgRdHdnZ1",
        "outputId": "079d80e4-2dd7-4257-f8b7-f3507d35b667"
      },
      "execution_count": 2,
      "outputs": [
        {
          "output_type": "stream",
          "name": "stdout",
          "text": [
            "Before the function call (List): [1, 2, 3]\n",
            "Inside the function (List): [1, 2, 3, 4]\n",
            "After the function call (List): [1, 2, 3, 4]\n"
          ]
        }
      ]
    },
    {
      "cell_type": "code",
      "source": [
        "#  Write a program that performs basic arithmetic operations on two user-input numbers.\n",
        "num1 = float(input(\"Enter the first number: \"))\n",
        "num2 = float(input(\"Enter the second number: \"))\n",
        "addition = num1 + num2\n",
        "subtraction = num1 - num2\n",
        "multiplication = num1 * num2"
      ],
      "metadata": {
        "id": "1Di63zo3d8My"
      },
      "execution_count": null,
      "outputs": []
    },
    {
      "cell_type": "code",
      "source": [
        "# Write a program to demonstrate the use of logical operators.\n",
        "age = int(input(\"enter your age : \"))\n",
        "if age >18:\n",
        "  print(\"you are eligible to vote.\")\n",
        "else:\n",
        "  print(\"you are not eligible to vote\")"
      ],
      "metadata": {
        "id": "ifid5ld7eA4Q"
      },
      "execution_count": null,
      "outputs": []
    },
    {
      "cell_type": "code",
      "source": [
        "# Write a Python program to convert user input from string to integer, float, and boolean types.\n",
        "def convert_to_int(value):\n",
        "    \"\"\"Attempts to convert a value to an integer.\"\"\"\n",
        "    try:\n",
        "        return int(value)\n",
        "    except ValueError:\n",
        "        return None  # Return None if conversion fails\n",
        "\n",
        "def convert_to_float(value):\n",
        "    \"\"\"Attempts to convert a value to a float.\"\"\"\n",
        "    try:\n",
        "        return float(value)\n",
        "    except ValueError:\n",
        "        return None  # Return None if conversion fails\n",
        "\n",
        "def convert_to_boolean(value):\n",
        "    \"\"\"\n",
        "    Attempts to convert a value to a boolean.\n",
        "    - Returns True for 'True', 'true', '1', 'yes', 'on'\n",
        "    - Returns False for 'False', 'false', '0', 'no', 'off'\n",
        "    - Returns None for other inputs\n",
        "    \"\"\"\n",
        "    true_values = {'True', 'true', '1', 'yes', 'on'}\n",
        "    false_values = {'False', 'false', '0', 'no', 'off'}\n",
        "\n",
        "    if value in true_values:\n",
        "        return True\n",
        "    elif value in false_values:\n",
        "        return False\n",
        "    else:\n",
        "        return None  # Return None if conversion fails\n",
        "\n"
      ],
      "metadata": {
        "id": "iLmq8LRJgRk4"
      },
      "execution_count": null,
      "outputs": []
    },
    {
      "cell_type": "code",
      "source": [
        "# Write code to demonstrate type casting with list elements.\n",
        "mixed_list = [\"10\", \"20.5\", \"30\", \"40.75\", \"50\"]\n",
        "print(\"Original List:\", mixed_list)\n",
        "int_list = []\n",
        "for item in mixed_list:\n",
        "    if item.isdigit():\n",
        "        int_list.append(int(item))\n",
        "print(\"\\nList after converting to integers (if possible):\", int_list)\n",
        "float_list = []\n",
        "for item in mixed_list:\n",
        "    float_list.append(float(item))\n",
        "print(\"\\nList after converting to floats:\", float_list)\n",
        "str_list = [str(item) for item in mixed_list]\n",
        "print(\"\\nList after converting to strings:\", str_list)"
      ],
      "metadata": {
        "id": "Vod_i_GrgpcJ"
      },
      "execution_count": null,
      "outputs": []
    },
    {
      "cell_type": "code",
      "source": [
        "# Write a program that checks if a number is positive, negative, or zero.\n",
        "num1 = int(input(\"Enter the number: \"))\n",
        "if num1 > 0:\n",
        "    print(\"The number is positive.\")\n",
        "elif num1 < 0:\n",
        "    print(\"The number is negative.\")\n",
        "else:\n",
        "    print(\"The number is zero.\")\n",
        ""
      ],
      "metadata": {
        "id": "M-363DH7heGe"
      },
      "execution_count": null,
      "outputs": []
    },
    {
      "cell_type": "code",
      "source": [
        "# Write a for loop to print numbers from 1 to 10.\n",
        "for i in range(1, 11):\n",
        "    print(i)"
      ],
      "metadata": {
        "id": "fDw5X_qBiNe-"
      },
      "execution_count": null,
      "outputs": []
    },
    {
      "cell_type": "code",
      "source": [
        "# Write a Python program to find the sum of all even numbers between 1 and 50.\n",
        "sum_even = 0\n",
        "for num in range(2, 51, 2):\n",
        "    sum_even += num\n",
        "print(\"The sum of even numbers between 1 and 50 is:\", sum_even)"
      ],
      "metadata": {
        "id": "thXc4CXFiRYH"
      },
      "execution_count": null,
      "outputs": []
    },
    {
      "cell_type": "code",
      "source": [
        "#. Write a program to reverse a string using a while loop.\n",
        "input_string = input(\"Enter a string: \")\n",
        "reversed_string = \"\"\n",
        "index = len(input_string) - 1\n",
        "while index >= 0:\n",
        "    reversed_string += input_string[index]\n",
        "    index -= 1"
      ],
      "metadata": {
        "id": "BRq5pzF8ikhE"
      },
      "execution_count": null,
      "outputs": []
    },
    {
      "cell_type": "code",
      "source": [
        "# Write a Python program to calculate the factorial of a number provided by the user using a while loop.\n",
        "num = int(input(\"Enter a number: \"))\n",
        "factorial = 1\n",
        "current = 1\n",
        "while current <= num:\n",
        "    factorial *= current\n",
        "    current += 1\n",
        "print(f\"The factorial of {num} is {factorial}\")"
      ],
      "metadata": {
        "id": "pnVkYKpZip-v"
      },
      "execution_count": null,
      "outputs": []
    },
    {
      "cell_type": "markdown",
      "source": [
        "\n",
        "#Function\n",
        "1. What is Python, and why is it popular?\n",
        "   - Python is programming language which is easy to read and write.It is a  interpreted programming language. I t is popular because it is easy to use, it is versitile and have extensive libraries and frameworks.\n",
        "2. What is an interpreter in Python?\n",
        "   - An interpreter in Python is a software program that reads, parses, and executes Python code line by line at runtime.\n",
        "\n",
        "3.  What are pre-defined keywords in Python ?\n",
        "   - The special keywords are reserved words that have special meanings and purposes within the language\n",
        "\n",
        "4. Can keywords be used as variable names?\n",
        "   - No, it can't use it.\n",
        "5. What is mutability in Python?\n",
        "   - Mutability means that can object value be changed after is assigned.\n",
        "6. Why are lists mutable, but tuples are immutable?\n",
        "   - It desigined by the python creaters may be to create a flexibility that if anyone wants to use the to change the value after, then he can aso use i, and any developer who don't want it  (may be because of security reason) he also can use it.\n",
        "\n",
        "7. What is the difference between “==” and “is” operators in Python?\n",
        "  - '==\" is check wheater the to wobject are equal or not.\n",
        "  - 'is' is used to checke weather these two object is pointing to same memory location or not.\n",
        "8. What are logical operators in Python?\n",
        "  - Logical operator is used to check wheather the condition is True or False.\n",
        "9. What is type casting in Python?\n",
        "  - The process of converting an object from one data type to another.\n",
        "10. What is the difference between implicit and explicit type casting?\n",
        "  - Implicit type casting - The conversion which is done by python itself.\n",
        "  - Explicit type casting:- The conversion which is done by user.\n",
        "11. What is the purpose of conditional statements in Python?\n",
        "  - It is used to control the flow of executionon certion condition.\n",
        "\n",
        "12. How does the elif statement work?\n",
        "  -  Elif is used in Python to check multiple conditions sequentially.\n",
        "13. What is the difference between for and while loops?\n",
        "  - For Loop :- A for loop is used when you know in advance how many times you want to iterate or when you want to iterate over a sequence.\n",
        "  - While Loop :-  A while loop is used when you want to repeat a block of code as long as a certain condition remains True.\n",
        "\n",
        "14. Describe a scenario where a while loop is more suitable than a for loop?\n",
        "  - A while loop is more suitable than a for loop when the number of iterations is not known in advance and depends on a dynamic condition that may change during execution."
      ],
      "metadata": {
        "id": "UvyqwSxNPkYu"
      }
    }
  ]
}